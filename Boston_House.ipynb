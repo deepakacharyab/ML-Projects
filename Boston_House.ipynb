{
  "nbformat": 4,
  "nbformat_minor": 0,
  "metadata": {
    "colab": {
      "name": "Boston_House.ipynb",
      "provenance": []
    },
    "kernelspec": {
      "name": "python3",
      "display_name": "Python 3"
    },
    "language_info": {
      "name": "python"
    }
  },
  "cells": [
    {
      "cell_type": "code",
      "metadata": {
        "id": "hTW9aYRS9ol3"
      },
      "source": [
        "import pandas as pd\n",
        "import numpy as np\n",
        "import matplotlib.pyplot as plt\n",
        "import seaborn as sns\n",
        "import sklearn.datasets\n",
        "from sklearn.model_selection import train_test_split\n",
        "from xgboost import XGBRegressor\n",
        "from sklearn import metrics\n",
        "from sklearn.ensemble import RandomForestRegressor"
      ],
      "execution_count": 66,
      "outputs": []
    },
    {
      "cell_type": "markdown",
      "metadata": {
        "id": "QuZN9P4XWImP"
      },
      "source": [
        "Importing the dataset"
      ]
    },
    {
      "cell_type": "code",
      "metadata": {
        "id": "gNgtpBfa-RDL"
      },
      "source": [
        "dataset = sklearn.datasets.load_boston()"
      ],
      "execution_count": 7,
      "outputs": []
    },
    {
      "cell_type": "code",
      "metadata": {
        "id": "CBYIf7if-bQJ"
      },
      "source": [
        "house_price_df = pd.DataFrame(dataset.data, columns = dataset.feature_names)"
      ],
      "execution_count": 12,
      "outputs": []
    },
    {
      "cell_type": "code",
      "metadata": {
        "colab": {
          "base_uri": "https://localhost:8080/",
          "height": 204
        },
        "id": "rGvVI_na-cgB",
        "outputId": "b1c636e0-a595-4e37-aa50-026335e2ab55"
      },
      "source": [
        "house_price_df.head()"
      ],
      "execution_count": 13,
      "outputs": [
        {
          "output_type": "execute_result",
          "data": {
            "text/html": [
              "<div>\n",
              "<style scoped>\n",
              "    .dataframe tbody tr th:only-of-type {\n",
              "        vertical-align: middle;\n",
              "    }\n",
              "\n",
              "    .dataframe tbody tr th {\n",
              "        vertical-align: top;\n",
              "    }\n",
              "\n",
              "    .dataframe thead th {\n",
              "        text-align: right;\n",
              "    }\n",
              "</style>\n",
              "<table border=\"1\" class=\"dataframe\">\n",
              "  <thead>\n",
              "    <tr style=\"text-align: right;\">\n",
              "      <th></th>\n",
              "      <th>CRIM</th>\n",
              "      <th>ZN</th>\n",
              "      <th>INDUS</th>\n",
              "      <th>CHAS</th>\n",
              "      <th>NOX</th>\n",
              "      <th>RM</th>\n",
              "      <th>AGE</th>\n",
              "      <th>DIS</th>\n",
              "      <th>RAD</th>\n",
              "      <th>TAX</th>\n",
              "      <th>PTRATIO</th>\n",
              "      <th>B</th>\n",
              "      <th>LSTAT</th>\n",
              "    </tr>\n",
              "  </thead>\n",
              "  <tbody>\n",
              "    <tr>\n",
              "      <th>0</th>\n",
              "      <td>0.00632</td>\n",
              "      <td>18.0</td>\n",
              "      <td>2.31</td>\n",
              "      <td>0.0</td>\n",
              "      <td>0.538</td>\n",
              "      <td>6.575</td>\n",
              "      <td>65.2</td>\n",
              "      <td>4.0900</td>\n",
              "      <td>1.0</td>\n",
              "      <td>296.0</td>\n",
              "      <td>15.3</td>\n",
              "      <td>396.90</td>\n",
              "      <td>4.98</td>\n",
              "    </tr>\n",
              "    <tr>\n",
              "      <th>1</th>\n",
              "      <td>0.02731</td>\n",
              "      <td>0.0</td>\n",
              "      <td>7.07</td>\n",
              "      <td>0.0</td>\n",
              "      <td>0.469</td>\n",
              "      <td>6.421</td>\n",
              "      <td>78.9</td>\n",
              "      <td>4.9671</td>\n",
              "      <td>2.0</td>\n",
              "      <td>242.0</td>\n",
              "      <td>17.8</td>\n",
              "      <td>396.90</td>\n",
              "      <td>9.14</td>\n",
              "    </tr>\n",
              "    <tr>\n",
              "      <th>2</th>\n",
              "      <td>0.02729</td>\n",
              "      <td>0.0</td>\n",
              "      <td>7.07</td>\n",
              "      <td>0.0</td>\n",
              "      <td>0.469</td>\n",
              "      <td>7.185</td>\n",
              "      <td>61.1</td>\n",
              "      <td>4.9671</td>\n",
              "      <td>2.0</td>\n",
              "      <td>242.0</td>\n",
              "      <td>17.8</td>\n",
              "      <td>392.83</td>\n",
              "      <td>4.03</td>\n",
              "    </tr>\n",
              "    <tr>\n",
              "      <th>3</th>\n",
              "      <td>0.03237</td>\n",
              "      <td>0.0</td>\n",
              "      <td>2.18</td>\n",
              "      <td>0.0</td>\n",
              "      <td>0.458</td>\n",
              "      <td>6.998</td>\n",
              "      <td>45.8</td>\n",
              "      <td>6.0622</td>\n",
              "      <td>3.0</td>\n",
              "      <td>222.0</td>\n",
              "      <td>18.7</td>\n",
              "      <td>394.63</td>\n",
              "      <td>2.94</td>\n",
              "    </tr>\n",
              "    <tr>\n",
              "      <th>4</th>\n",
              "      <td>0.06905</td>\n",
              "      <td>0.0</td>\n",
              "      <td>2.18</td>\n",
              "      <td>0.0</td>\n",
              "      <td>0.458</td>\n",
              "      <td>7.147</td>\n",
              "      <td>54.2</td>\n",
              "      <td>6.0622</td>\n",
              "      <td>3.0</td>\n",
              "      <td>222.0</td>\n",
              "      <td>18.7</td>\n",
              "      <td>396.90</td>\n",
              "      <td>5.33</td>\n",
              "    </tr>\n",
              "  </tbody>\n",
              "</table>\n",
              "</div>"
            ],
            "text/plain": [
              "      CRIM    ZN  INDUS  CHAS    NOX  ...  RAD    TAX  PTRATIO       B  LSTAT\n",
              "0  0.00632  18.0   2.31   0.0  0.538  ...  1.0  296.0     15.3  396.90   4.98\n",
              "1  0.02731   0.0   7.07   0.0  0.469  ...  2.0  242.0     17.8  396.90   9.14\n",
              "2  0.02729   0.0   7.07   0.0  0.469  ...  2.0  242.0     17.8  392.83   4.03\n",
              "3  0.03237   0.0   2.18   0.0  0.458  ...  3.0  222.0     18.7  394.63   2.94\n",
              "4  0.06905   0.0   2.18   0.0  0.458  ...  3.0  222.0     18.7  396.90   5.33\n",
              "\n",
              "[5 rows x 13 columns]"
            ]
          },
          "metadata": {
            "tags": []
          },
          "execution_count": 13
        }
      ]
    },
    {
      "cell_type": "code",
      "metadata": {
        "id": "NUsGrY_SXJME"
      },
      "source": [
        "house_price_df['price'] = dataset.target"
      ],
      "execution_count": 14,
      "outputs": []
    },
    {
      "cell_type": "code",
      "metadata": {
        "colab": {
          "base_uri": "https://localhost:8080/",
          "height": 204
        },
        "id": "BFihZD_CXujS",
        "outputId": "202739cb-f1a5-41f9-a240-e83ea6186105"
      },
      "source": [
        "house_price_df.head()"
      ],
      "execution_count": 15,
      "outputs": [
        {
          "output_type": "execute_result",
          "data": {
            "text/html": [
              "<div>\n",
              "<style scoped>\n",
              "    .dataframe tbody tr th:only-of-type {\n",
              "        vertical-align: middle;\n",
              "    }\n",
              "\n",
              "    .dataframe tbody tr th {\n",
              "        vertical-align: top;\n",
              "    }\n",
              "\n",
              "    .dataframe thead th {\n",
              "        text-align: right;\n",
              "    }\n",
              "</style>\n",
              "<table border=\"1\" class=\"dataframe\">\n",
              "  <thead>\n",
              "    <tr style=\"text-align: right;\">\n",
              "      <th></th>\n",
              "      <th>CRIM</th>\n",
              "      <th>ZN</th>\n",
              "      <th>INDUS</th>\n",
              "      <th>CHAS</th>\n",
              "      <th>NOX</th>\n",
              "      <th>RM</th>\n",
              "      <th>AGE</th>\n",
              "      <th>DIS</th>\n",
              "      <th>RAD</th>\n",
              "      <th>TAX</th>\n",
              "      <th>PTRATIO</th>\n",
              "      <th>B</th>\n",
              "      <th>LSTAT</th>\n",
              "      <th>price</th>\n",
              "    </tr>\n",
              "  </thead>\n",
              "  <tbody>\n",
              "    <tr>\n",
              "      <th>0</th>\n",
              "      <td>0.00632</td>\n",
              "      <td>18.0</td>\n",
              "      <td>2.31</td>\n",
              "      <td>0.0</td>\n",
              "      <td>0.538</td>\n",
              "      <td>6.575</td>\n",
              "      <td>65.2</td>\n",
              "      <td>4.0900</td>\n",
              "      <td>1.0</td>\n",
              "      <td>296.0</td>\n",
              "      <td>15.3</td>\n",
              "      <td>396.90</td>\n",
              "      <td>4.98</td>\n",
              "      <td>24.0</td>\n",
              "    </tr>\n",
              "    <tr>\n",
              "      <th>1</th>\n",
              "      <td>0.02731</td>\n",
              "      <td>0.0</td>\n",
              "      <td>7.07</td>\n",
              "      <td>0.0</td>\n",
              "      <td>0.469</td>\n",
              "      <td>6.421</td>\n",
              "      <td>78.9</td>\n",
              "      <td>4.9671</td>\n",
              "      <td>2.0</td>\n",
              "      <td>242.0</td>\n",
              "      <td>17.8</td>\n",
              "      <td>396.90</td>\n",
              "      <td>9.14</td>\n",
              "      <td>21.6</td>\n",
              "    </tr>\n",
              "    <tr>\n",
              "      <th>2</th>\n",
              "      <td>0.02729</td>\n",
              "      <td>0.0</td>\n",
              "      <td>7.07</td>\n",
              "      <td>0.0</td>\n",
              "      <td>0.469</td>\n",
              "      <td>7.185</td>\n",
              "      <td>61.1</td>\n",
              "      <td>4.9671</td>\n",
              "      <td>2.0</td>\n",
              "      <td>242.0</td>\n",
              "      <td>17.8</td>\n",
              "      <td>392.83</td>\n",
              "      <td>4.03</td>\n",
              "      <td>34.7</td>\n",
              "    </tr>\n",
              "    <tr>\n",
              "      <th>3</th>\n",
              "      <td>0.03237</td>\n",
              "      <td>0.0</td>\n",
              "      <td>2.18</td>\n",
              "      <td>0.0</td>\n",
              "      <td>0.458</td>\n",
              "      <td>6.998</td>\n",
              "      <td>45.8</td>\n",
              "      <td>6.0622</td>\n",
              "      <td>3.0</td>\n",
              "      <td>222.0</td>\n",
              "      <td>18.7</td>\n",
              "      <td>394.63</td>\n",
              "      <td>2.94</td>\n",
              "      <td>33.4</td>\n",
              "    </tr>\n",
              "    <tr>\n",
              "      <th>4</th>\n",
              "      <td>0.06905</td>\n",
              "      <td>0.0</td>\n",
              "      <td>2.18</td>\n",
              "      <td>0.0</td>\n",
              "      <td>0.458</td>\n",
              "      <td>7.147</td>\n",
              "      <td>54.2</td>\n",
              "      <td>6.0622</td>\n",
              "      <td>3.0</td>\n",
              "      <td>222.0</td>\n",
              "      <td>18.7</td>\n",
              "      <td>396.90</td>\n",
              "      <td>5.33</td>\n",
              "      <td>36.2</td>\n",
              "    </tr>\n",
              "  </tbody>\n",
              "</table>\n",
              "</div>"
            ],
            "text/plain": [
              "      CRIM    ZN  INDUS  CHAS    NOX  ...    TAX  PTRATIO       B  LSTAT  price\n",
              "0  0.00632  18.0   2.31   0.0  0.538  ...  296.0     15.3  396.90   4.98   24.0\n",
              "1  0.02731   0.0   7.07   0.0  0.469  ...  242.0     17.8  396.90   9.14   21.6\n",
              "2  0.02729   0.0   7.07   0.0  0.469  ...  242.0     17.8  392.83   4.03   34.7\n",
              "3  0.03237   0.0   2.18   0.0  0.458  ...  222.0     18.7  394.63   2.94   33.4\n",
              "4  0.06905   0.0   2.18   0.0  0.458  ...  222.0     18.7  396.90   5.33   36.2\n",
              "\n",
              "[5 rows x 14 columns]"
            ]
          },
          "metadata": {
            "tags": []
          },
          "execution_count": 15
        }
      ]
    },
    {
      "cell_type": "code",
      "metadata": {
        "colab": {
          "base_uri": "https://localhost:8080/"
        },
        "id": "9tREYyKTXwHq",
        "outputId": "267efa95-0709-4f93-915d-31a8fd8cc94b"
      },
      "source": [
        "house_price_df.isna().sum()"
      ],
      "execution_count": 20,
      "outputs": [
        {
          "output_type": "execute_result",
          "data": {
            "text/plain": [
              "CRIM       0\n",
              "ZN         0\n",
              "INDUS      0\n",
              "CHAS       0\n",
              "NOX        0\n",
              "RM         0\n",
              "AGE        0\n",
              "DIS        0\n",
              "RAD        0\n",
              "TAX        0\n",
              "PTRATIO    0\n",
              "B          0\n",
              "LSTAT      0\n",
              "price      0\n",
              "dtype: int64"
            ]
          },
          "metadata": {
            "tags": []
          },
          "execution_count": 20
        }
      ]
    },
    {
      "cell_type": "code",
      "metadata": {
        "colab": {
          "base_uri": "https://localhost:8080/",
          "height": 317
        },
        "id": "eMlwXAAXYA0j",
        "outputId": "55b5e3c7-50f2-411d-fb47-b200380f1ff8"
      },
      "source": [
        "house_price_df.describe()"
      ],
      "execution_count": 21,
      "outputs": [
        {
          "output_type": "execute_result",
          "data": {
            "text/html": [
              "<div>\n",
              "<style scoped>\n",
              "    .dataframe tbody tr th:only-of-type {\n",
              "        vertical-align: middle;\n",
              "    }\n",
              "\n",
              "    .dataframe tbody tr th {\n",
              "        vertical-align: top;\n",
              "    }\n",
              "\n",
              "    .dataframe thead th {\n",
              "        text-align: right;\n",
              "    }\n",
              "</style>\n",
              "<table border=\"1\" class=\"dataframe\">\n",
              "  <thead>\n",
              "    <tr style=\"text-align: right;\">\n",
              "      <th></th>\n",
              "      <th>CRIM</th>\n",
              "      <th>ZN</th>\n",
              "      <th>INDUS</th>\n",
              "      <th>CHAS</th>\n",
              "      <th>NOX</th>\n",
              "      <th>RM</th>\n",
              "      <th>AGE</th>\n",
              "      <th>DIS</th>\n",
              "      <th>RAD</th>\n",
              "      <th>TAX</th>\n",
              "      <th>PTRATIO</th>\n",
              "      <th>B</th>\n",
              "      <th>LSTAT</th>\n",
              "      <th>price</th>\n",
              "    </tr>\n",
              "  </thead>\n",
              "  <tbody>\n",
              "    <tr>\n",
              "      <th>count</th>\n",
              "      <td>506.000000</td>\n",
              "      <td>506.000000</td>\n",
              "      <td>506.000000</td>\n",
              "      <td>506.000000</td>\n",
              "      <td>506.000000</td>\n",
              "      <td>506.000000</td>\n",
              "      <td>506.000000</td>\n",
              "      <td>506.000000</td>\n",
              "      <td>506.000000</td>\n",
              "      <td>506.000000</td>\n",
              "      <td>506.000000</td>\n",
              "      <td>506.000000</td>\n",
              "      <td>506.000000</td>\n",
              "      <td>506.000000</td>\n",
              "    </tr>\n",
              "    <tr>\n",
              "      <th>mean</th>\n",
              "      <td>3.613524</td>\n",
              "      <td>11.363636</td>\n",
              "      <td>11.136779</td>\n",
              "      <td>0.069170</td>\n",
              "      <td>0.554695</td>\n",
              "      <td>6.284634</td>\n",
              "      <td>68.574901</td>\n",
              "      <td>3.795043</td>\n",
              "      <td>9.549407</td>\n",
              "      <td>408.237154</td>\n",
              "      <td>18.455534</td>\n",
              "      <td>356.674032</td>\n",
              "      <td>12.653063</td>\n",
              "      <td>22.532806</td>\n",
              "    </tr>\n",
              "    <tr>\n",
              "      <th>std</th>\n",
              "      <td>8.601545</td>\n",
              "      <td>23.322453</td>\n",
              "      <td>6.860353</td>\n",
              "      <td>0.253994</td>\n",
              "      <td>0.115878</td>\n",
              "      <td>0.702617</td>\n",
              "      <td>28.148861</td>\n",
              "      <td>2.105710</td>\n",
              "      <td>8.707259</td>\n",
              "      <td>168.537116</td>\n",
              "      <td>2.164946</td>\n",
              "      <td>91.294864</td>\n",
              "      <td>7.141062</td>\n",
              "      <td>9.197104</td>\n",
              "    </tr>\n",
              "    <tr>\n",
              "      <th>min</th>\n",
              "      <td>0.006320</td>\n",
              "      <td>0.000000</td>\n",
              "      <td>0.460000</td>\n",
              "      <td>0.000000</td>\n",
              "      <td>0.385000</td>\n",
              "      <td>3.561000</td>\n",
              "      <td>2.900000</td>\n",
              "      <td>1.129600</td>\n",
              "      <td>1.000000</td>\n",
              "      <td>187.000000</td>\n",
              "      <td>12.600000</td>\n",
              "      <td>0.320000</td>\n",
              "      <td>1.730000</td>\n",
              "      <td>5.000000</td>\n",
              "    </tr>\n",
              "    <tr>\n",
              "      <th>25%</th>\n",
              "      <td>0.082045</td>\n",
              "      <td>0.000000</td>\n",
              "      <td>5.190000</td>\n",
              "      <td>0.000000</td>\n",
              "      <td>0.449000</td>\n",
              "      <td>5.885500</td>\n",
              "      <td>45.025000</td>\n",
              "      <td>2.100175</td>\n",
              "      <td>4.000000</td>\n",
              "      <td>279.000000</td>\n",
              "      <td>17.400000</td>\n",
              "      <td>375.377500</td>\n",
              "      <td>6.950000</td>\n",
              "      <td>17.025000</td>\n",
              "    </tr>\n",
              "    <tr>\n",
              "      <th>50%</th>\n",
              "      <td>0.256510</td>\n",
              "      <td>0.000000</td>\n",
              "      <td>9.690000</td>\n",
              "      <td>0.000000</td>\n",
              "      <td>0.538000</td>\n",
              "      <td>6.208500</td>\n",
              "      <td>77.500000</td>\n",
              "      <td>3.207450</td>\n",
              "      <td>5.000000</td>\n",
              "      <td>330.000000</td>\n",
              "      <td>19.050000</td>\n",
              "      <td>391.440000</td>\n",
              "      <td>11.360000</td>\n",
              "      <td>21.200000</td>\n",
              "    </tr>\n",
              "    <tr>\n",
              "      <th>75%</th>\n",
              "      <td>3.677083</td>\n",
              "      <td>12.500000</td>\n",
              "      <td>18.100000</td>\n",
              "      <td>0.000000</td>\n",
              "      <td>0.624000</td>\n",
              "      <td>6.623500</td>\n",
              "      <td>94.075000</td>\n",
              "      <td>5.188425</td>\n",
              "      <td>24.000000</td>\n",
              "      <td>666.000000</td>\n",
              "      <td>20.200000</td>\n",
              "      <td>396.225000</td>\n",
              "      <td>16.955000</td>\n",
              "      <td>25.000000</td>\n",
              "    </tr>\n",
              "    <tr>\n",
              "      <th>max</th>\n",
              "      <td>88.976200</td>\n",
              "      <td>100.000000</td>\n",
              "      <td>27.740000</td>\n",
              "      <td>1.000000</td>\n",
              "      <td>0.871000</td>\n",
              "      <td>8.780000</td>\n",
              "      <td>100.000000</td>\n",
              "      <td>12.126500</td>\n",
              "      <td>24.000000</td>\n",
              "      <td>711.000000</td>\n",
              "      <td>22.000000</td>\n",
              "      <td>396.900000</td>\n",
              "      <td>37.970000</td>\n",
              "      <td>50.000000</td>\n",
              "    </tr>\n",
              "  </tbody>\n",
              "</table>\n",
              "</div>"
            ],
            "text/plain": [
              "             CRIM          ZN       INDUS  ...           B       LSTAT       price\n",
              "count  506.000000  506.000000  506.000000  ...  506.000000  506.000000  506.000000\n",
              "mean     3.613524   11.363636   11.136779  ...  356.674032   12.653063   22.532806\n",
              "std      8.601545   23.322453    6.860353  ...   91.294864    7.141062    9.197104\n",
              "min      0.006320    0.000000    0.460000  ...    0.320000    1.730000    5.000000\n",
              "25%      0.082045    0.000000    5.190000  ...  375.377500    6.950000   17.025000\n",
              "50%      0.256510    0.000000    9.690000  ...  391.440000   11.360000   21.200000\n",
              "75%      3.677083   12.500000   18.100000  ...  396.225000   16.955000   25.000000\n",
              "max     88.976200  100.000000   27.740000  ...  396.900000   37.970000   50.000000\n",
              "\n",
              "[8 rows x 14 columns]"
            ]
          },
          "metadata": {
            "tags": []
          },
          "execution_count": 21
        }
      ]
    },
    {
      "cell_type": "markdown",
      "metadata": {
        "id": "Fv6S6F38Yi0p"
      },
      "source": [
        "Understanding the correlation between the various features of the dataset"
      ]
    },
    {
      "cell_type": "code",
      "metadata": {
        "id": "58byu6bxYY3V"
      },
      "source": [
        "corln = house_price_df.corr()"
      ],
      "execution_count": 22,
      "outputs": []
    },
    {
      "cell_type": "markdown",
      "metadata": {
        "id": "ur2UKZGGZI8k"
      },
      "source": [
        "Heat Map"
      ]
    },
    {
      "cell_type": "code",
      "metadata": {
        "colab": {
          "base_uri": "https://localhost:8080/",
          "height": 596
        },
        "id": "J03hLPvBZEd7",
        "outputId": "c9672e95-6550-430b-e2a0-d2bb6f3e62f6"
      },
      "source": [
        "plt.figure(figsize=(10,10))\n",
        "sns.heatmap(corln, cbar=True, square=True, fmt='.2f', annot=True, annot_kws={'size':8}, cmap='Blues')"
      ],
      "execution_count": 25,
      "outputs": [
        {
          "output_type": "execute_result",
          "data": {
            "text/plain": [
              "<matplotlib.axes._subplots.AxesSubplot at 0x7f217058bc90>"
            ]
          },
          "metadata": {
            "tags": []
          },
          "execution_count": 25
        },
        {
          "output_type": "display_data",
          "data": {
            "image/png": "[encoded data removed]",
            "text/plain": [
              "<Figure size 720x720 with 2 Axes>"
            ]
          },
          "metadata": {
            "tags": [],
            "needs_background": "light"
          }
        }
      ]
    },
    {
      "cell_type": "markdown",
      "metadata": {
        "id": "GbojcMFda4h1"
      },
      "source": [
        "Splitting the dataset\n"
      ]
    },
    {
      "cell_type": "code",
      "metadata": {
        "id": "70sda-qCa1gZ"
      },
      "source": [
        "X = house_price_df.drop('price', axis=1)"
      ],
      "execution_count": 26,
      "outputs": []
    },
    {
      "cell_type": "code",
      "metadata": {
        "id": "Fj9_0eEybBHp"
      },
      "source": [
        "Y = house_price_df['price']"
      ],
      "execution_count": 27,
      "outputs": []
    },
    {
      "cell_type": "code",
      "metadata": {
        "colab": {
          "base_uri": "https://localhost:8080/",
          "height": 419
        },
        "id": "--ceHoXobFuQ",
        "outputId": "53957d2e-ee96-4333-d9ef-60f3eb61f73a"
      },
      "source": [
        "X"
      ],
      "execution_count": 28,
      "outputs": [
        {
          "output_type": "execute_result",
          "data": {
            "text/html": [
              "<div>\n",
              "<style scoped>\n",
              "    .dataframe tbody tr th:only-of-type {\n",
              "        vertical-align: middle;\n",
              "    }\n",
              "\n",
              "    .dataframe tbody tr th {\n",
              "        vertical-align: top;\n",
              "    }\n",
              "\n",
              "    .dataframe thead th {\n",
              "        text-align: right;\n",
              "    }\n",
              "</style>\n",
              "<table border=\"1\" class=\"dataframe\">\n",
              "  <thead>\n",
              "    <tr style=\"text-align: right;\">\n",
              "      <th></th>\n",
              "      <th>CRIM</th>\n",
              "      <th>ZN</th>\n",
              "      <th>INDUS</th>\n",
              "      <th>CHAS</th>\n",
              "      <th>NOX</th>\n",
              "      <th>RM</th>\n",
              "      <th>AGE</th>\n",
              "      <th>DIS</th>\n",
              "      <th>RAD</th>\n",
              "      <th>TAX</th>\n",
              "      <th>PTRATIO</th>\n",
              "      <th>B</th>\n",
              "      <th>LSTAT</th>\n",
              "    </tr>\n",
              "  </thead>\n",
              "  <tbody>\n",
              "    <tr>\n",
              "      <th>0</th>\n",
              "      <td>0.00632</td>\n",
              "      <td>18.0</td>\n",
              "      <td>2.31</td>\n",
              "      <td>0.0</td>\n",
              "      <td>0.538</td>\n",
              "      <td>6.575</td>\n",
              "      <td>65.2</td>\n",
              "      <td>4.0900</td>\n",
              "      <td>1.0</td>\n",
              "      <td>296.0</td>\n",
              "      <td>15.3</td>\n",
              "      <td>396.90</td>\n",
              "      <td>4.98</td>\n",
              "    </tr>\n",
              "    <tr>\n",
              "      <th>1</th>\n",
              "      <td>0.02731</td>\n",
              "      <td>0.0</td>\n",
              "      <td>7.07</td>\n",
              "      <td>0.0</td>\n",
              "      <td>0.469</td>\n",
              "      <td>6.421</td>\n",
              "      <td>78.9</td>\n",
              "      <td>4.9671</td>\n",
              "      <td>2.0</td>\n",
              "      <td>242.0</td>\n",
              "      <td>17.8</td>\n",
              "      <td>396.90</td>\n",
              "      <td>9.14</td>\n",
              "    </tr>\n",
              "    <tr>\n",
              "      <th>2</th>\n",
              "      <td>0.02729</td>\n",
              "      <td>0.0</td>\n",
              "      <td>7.07</td>\n",
              "      <td>0.0</td>\n",
              "      <td>0.469</td>\n",
              "      <td>7.185</td>\n",
              "      <td>61.1</td>\n",
              "      <td>4.9671</td>\n",
              "      <td>2.0</td>\n",
              "      <td>242.0</td>\n",
              "      <td>17.8</td>\n",
              "      <td>392.83</td>\n",
              "      <td>4.03</td>\n",
              "    </tr>\n",
              "    <tr>\n",
              "      <th>3</th>\n",
              "      <td>0.03237</td>\n",
              "      <td>0.0</td>\n",
              "      <td>2.18</td>\n",
              "      <td>0.0</td>\n",
              "      <td>0.458</td>\n",
              "      <td>6.998</td>\n",
              "      <td>45.8</td>\n",
              "      <td>6.0622</td>\n",
              "      <td>3.0</td>\n",
              "      <td>222.0</td>\n",
              "      <td>18.7</td>\n",
              "      <td>394.63</td>\n",
              "      <td>2.94</td>\n",
              "    </tr>\n",
              "    <tr>\n",
              "      <th>4</th>\n",
              "      <td>0.06905</td>\n",
              "      <td>0.0</td>\n",
              "      <td>2.18</td>\n",
              "      <td>0.0</td>\n",
              "      <td>0.458</td>\n",
              "      <td>7.147</td>\n",
              "      <td>54.2</td>\n",
              "      <td>6.0622</td>\n",
              "      <td>3.0</td>\n",
              "      <td>222.0</td>\n",
              "      <td>18.7</td>\n",
              "      <td>396.90</td>\n",
              "      <td>5.33</td>\n",
              "    </tr>\n",
              "    <tr>\n",
              "      <th>...</th>\n",
              "      <td>...</td>\n",
              "      <td>...</td>\n",
              "      <td>...</td>\n",
              "      <td>...</td>\n",
              "      <td>...</td>\n",
              "      <td>...</td>\n",
              "      <td>...</td>\n",
              "      <td>...</td>\n",
              "      <td>...</td>\n",
              "      <td>...</td>\n",
              "      <td>...</td>\n",
              "      <td>...</td>\n",
              "      <td>...</td>\n",
              "    </tr>\n",
              "    <tr>\n",
              "      <th>501</th>\n",
              "      <td>0.06263</td>\n",
              "      <td>0.0</td>\n",
              "      <td>11.93</td>\n",
              "      <td>0.0</td>\n",
              "      <td>0.573</td>\n",
              "      <td>6.593</td>\n",
              "      <td>69.1</td>\n",
              "      <td>2.4786</td>\n",
              "      <td>1.0</td>\n",
              "      <td>273.0</td>\n",
              "      <td>21.0</td>\n",
              "      <td>391.99</td>\n",
              "      <td>9.67</td>\n",
              "    </tr>\n",
              "    <tr>\n",
              "      <th>502</th>\n",
              "      <td>0.04527</td>\n",
              "      <td>0.0</td>\n",
              "      <td>11.93</td>\n",
              "      <td>0.0</td>\n",
              "      <td>0.573</td>\n",
              "      <td>6.120</td>\n",
              "      <td>76.7</td>\n",
              "      <td>2.2875</td>\n",
              "      <td>1.0</td>\n",
              "      <td>273.0</td>\n",
              "      <td>21.0</td>\n",
              "      <td>396.90</td>\n",
              "      <td>9.08</td>\n",
              "    </tr>\n",
              "    <tr>\n",
              "      <th>503</th>\n",
              "      <td>0.06076</td>\n",
              "      <td>0.0</td>\n",
              "      <td>11.93</td>\n",
              "      <td>0.0</td>\n",
              "      <td>0.573</td>\n",
              "      <td>6.976</td>\n",
              "      <td>91.0</td>\n",
              "      <td>2.1675</td>\n",
              "      <td>1.0</td>\n",
              "      <td>273.0</td>\n",
              "      <td>21.0</td>\n",
              "      <td>396.90</td>\n",
              "      <td>5.64</td>\n",
              "    </tr>\n",
              "    <tr>\n",
              "      <th>504</th>\n",
              "      <td>0.10959</td>\n",
              "      <td>0.0</td>\n",
              "      <td>11.93</td>\n",
              "      <td>0.0</td>\n",
              "      <td>0.573</td>\n",
              "      <td>6.794</td>\n",
              "      <td>89.3</td>\n",
              "      <td>2.3889</td>\n",
              "      <td>1.0</td>\n",
              "      <td>273.0</td>\n",
              "      <td>21.0</td>\n",
              "      <td>393.45</td>\n",
              "      <td>6.48</td>\n",
              "    </tr>\n",
              "    <tr>\n",
              "      <th>505</th>\n",
              "      <td>0.04741</td>\n",
              "      <td>0.0</td>\n",
              "      <td>11.93</td>\n",
              "      <td>0.0</td>\n",
              "      <td>0.573</td>\n",
              "      <td>6.030</td>\n",
              "      <td>80.8</td>\n",
              "      <td>2.5050</td>\n",
              "      <td>1.0</td>\n",
              "      <td>273.0</td>\n",
              "      <td>21.0</td>\n",
              "      <td>396.90</td>\n",
              "      <td>7.88</td>\n",
              "    </tr>\n",
              "  </tbody>\n",
              "</table>\n",
              "<p>506 rows × 13 columns</p>\n",
              "</div>"
            ],
            "text/plain": [
              "        CRIM    ZN  INDUS  CHAS    NOX  ...  RAD    TAX  PTRATIO       B  LSTAT\n",
              "0    0.00632  18.0   2.31   0.0  0.538  ...  1.0  296.0     15.3  396.90   4.98\n",
              "1    0.02731   0.0   7.07   0.0  0.469  ...  2.0  242.0     17.8  396.90   9.14\n",
              "2    0.02729   0.0   7.07   0.0  0.469  ...  2.0  242.0     17.8  392.83   4.03\n",
              "3    0.03237   0.0   2.18   0.0  0.458  ...  3.0  222.0     18.7  394.63   2.94\n",
              "4    0.06905   0.0   2.18   0.0  0.458  ...  3.0  222.0     18.7  396.90   5.33\n",
              "..       ...   ...    ...   ...    ...  ...  ...    ...      ...     ...    ...\n",
              "501  0.06263   0.0  11.93   0.0  0.573  ...  1.0  273.0     21.0  391.99   9.67\n",
              "502  0.04527   0.0  11.93   0.0  0.573  ...  1.0  273.0     21.0  396.90   9.08\n",
              "503  0.06076   0.0  11.93   0.0  0.573  ...  1.0  273.0     21.0  396.90   5.64\n",
              "504  0.10959   0.0  11.93   0.0  0.573  ...  1.0  273.0     21.0  393.45   6.48\n",
              "505  0.04741   0.0  11.93   0.0  0.573  ...  1.0  273.0     21.0  396.90   7.88\n",
              "\n",
              "[506 rows x 13 columns]"
            ]
          },
          "metadata": {
            "tags": []
          },
          "execution_count": 28
        }
      ]
    },
    {
      "cell_type": "code",
      "metadata": {
        "colab": {
          "base_uri": "https://localhost:8080/"
        },
        "id": "23MY2HS4bHTZ",
        "outputId": "52b95324-64f2-4886-bd7d-39ee5898a0ea"
      },
      "source": [
        "Y"
      ],
      "execution_count": 29,
      "outputs": [
        {
          "output_type": "execute_result",
          "data": {
            "text/plain": [
              "0      24.0\n",
              "1      21.6\n",
              "2      34.7\n",
              "3      33.4\n",
              "4      36.2\n",
              "       ... \n",
              "501    22.4\n",
              "502    20.6\n",
              "503    23.9\n",
              "504    22.0\n",
              "505    11.9\n",
              "Name: price, Length: 506, dtype: float64"
            ]
          },
          "metadata": {
            "tags": []
          },
          "execution_count": 29
        }
      ]
    },
    {
      "cell_type": "code",
      "metadata": {
        "id": "kjnN24QtbJjJ"
      },
      "source": [
        "X_train, X_test, Y_train, Y_test = train_test_split(X,Y,test_size=0.2, random_state=2)"
      ],
      "execution_count": 30,
      "outputs": []
    },
    {
      "cell_type": "code",
      "metadata": {
        "colab": {
          "base_uri": "https://localhost:8080/"
        },
        "id": "sCRoqmu4c3Ci",
        "outputId": "0830693a-ff31-4c5a-963f-ac00a8a6a4e1"
      },
      "source": [
        "X_train.shape"
      ],
      "execution_count": 31,
      "outputs": [
        {
          "output_type": "execute_result",
          "data": {
            "text/plain": [
              "(404, 13)"
            ]
          },
          "metadata": {
            "tags": []
          },
          "execution_count": 31
        }
      ]
    },
    {
      "cell_type": "code",
      "metadata": {
        "colab": {
          "base_uri": "https://localhost:8080/"
        },
        "id": "T4F2I9REc-na",
        "outputId": "ffea4087-9bfe-44ba-d99c-97ea74a2a1d8"
      },
      "source": [
        "X_test.shape"
      ],
      "execution_count": 32,
      "outputs": [
        {
          "output_type": "execute_result",
          "data": {
            "text/plain": [
              "(102, 13)"
            ]
          },
          "metadata": {
            "tags": []
          },
          "execution_count": 32
        }
      ]
    },
    {
      "cell_type": "markdown",
      "metadata": {
        "id": "hvrH_a1NdVNP"
      },
      "source": [
        "Model Training"
      ]
    },
    {
      "cell_type": "markdown",
      "metadata": {
        "id": "OsJ78s5Mdbzx"
      },
      "source": [
        "#XGBRegressor"
      ]
    },
    {
      "cell_type": "code",
      "metadata": {
        "id": "jlDh90xvdAPb"
      },
      "source": [
        "#loading the model\n",
        "model = XGBRegressor()"
      ],
      "execution_count": 35,
      "outputs": []
    },
    {
      "cell_type": "code",
      "metadata": {
        "colab": {
          "base_uri": "https://localhost:8080/"
        },
        "id": "xsjSkxzSdaFL",
        "outputId": "396d4951-494b-4ad7-f527-d800c87efa4c"
      },
      "source": [
        "model.fit(X_train,Y_train)"
      ],
      "execution_count": 37,
      "outputs": [
        {
          "output_type": "stream",
          "text": [
            "[00:27:17] WARNING: /workspace/src/objective/regression_obj.cu:152: reg:linear is now deprecated in favor of reg:squarederror.\n"
          ],
          "name": "stdout"
        },
        {
          "output_type": "execute_result",
          "data": {
            "text/plain": [
              "XGBRegressor(base_score=0.5, booster='gbtree', colsample_bylevel=1,\n",
              "             colsample_bynode=1, colsample_bytree=1, gamma=0,\n",
              "             importance_type='gain', learning_rate=0.1, max_delta_step=0,\n",
              "             max_depth=3, min_child_weight=1, missing=None, n_estimators=100,\n",
              "             n_jobs=1, nthread=None, objective='reg:linear', random_state=0,\n",
              "             reg_alpha=0, reg_lambda=1, scale_pos_weight=1, seed=None,\n",
              "             silent=None, subsample=1, verbosity=1)"
            ]
          },
          "metadata": {
            "tags": []
          },
          "execution_count": 37
        }
      ]
    },
    {
      "cell_type": "markdown",
      "metadata": {
        "id": "M5h7Ih0meW6n"
      },
      "source": [
        "Model Prediction on training data"
      ]
    },
    {
      "cell_type": "code",
      "metadata": {
        "id": "uUW-A7h6d-2k"
      },
      "source": [
        "# Accuracy for the prediction on training value\n",
        "training_data_prediction = model.predict(X_train)"
      ],
      "execution_count": 41,
      "outputs": []
    },
    {
      "cell_type": "code",
      "metadata": {
        "id": "M-DApRJQeIL1"
      },
      "source": [
        "#MAE\n",
        "score_1 = metrics.mean_absolute_error(training_data_prediction,Y_train)"
      ],
      "execution_count": 52,
      "outputs": []
    },
    {
      "cell_type": "code",
      "metadata": {
        "colab": {
          "base_uri": "https://localhost:8080/"
        },
        "id": "lJiKi9U8esQl",
        "outputId": "30678107-4da2-46b5-ef6b-d125b1055549"
      },
      "source": [
        "score_1"
      ],
      "execution_count": 53,
      "outputs": [
        {
          "output_type": "execute_result",
          "data": {
            "text/plain": [
              "1.145314053261634"
            ]
          },
          "metadata": {
            "tags": []
          },
          "execution_count": 53
        }
      ]
    },
    {
      "cell_type": "code",
      "metadata": {
        "id": "TmKboV6_fGIa"
      },
      "source": [
        "#R square error\n",
        "score_2 = metrics.r2_score(training_data_prediction,Y_train)"
      ],
      "execution_count": 54,
      "outputs": []
    },
    {
      "cell_type": "code",
      "metadata": {
        "colab": {
          "base_uri": "https://localhost:8080/"
        },
        "id": "6w5NA6aEfR6H",
        "outputId": "a1ac0b52-3672-4dd4-a725-b620469953a2"
      },
      "source": [
        "score_2"
      ],
      "execution_count": 55,
      "outputs": [
        {
          "output_type": "execute_result",
          "data": {
            "text/plain": [
              "0.9711526796929283"
            ]
          },
          "metadata": {
            "tags": []
          },
          "execution_count": 55
        }
      ]
    },
    {
      "cell_type": "markdown",
      "metadata": {
        "id": "QaqoT1FDhMWK"
      },
      "source": [
        "#TEST DATA"
      ]
    },
    {
      "cell_type": "code",
      "metadata": {
        "id": "ak8O3LVJfZAE"
      },
      "source": [
        "testing_data_prediction = model.predict(X_test)\n",
        "score_3 = metrics.mean_absolute_error(testing_data_prediction,Y_test)\n",
        "score_4 = metrics.r2_score(testing_data_prediction,Y_test)"
      ],
      "execution_count": 58,
      "outputs": []
    },
    {
      "cell_type": "code",
      "metadata": {
        "colab": {
          "base_uri": "https://localhost:8080/"
        },
        "id": "foXHbTG6gwoj",
        "outputId": "41f927ae-4d88-4e45-b107-80741f441881"
      },
      "source": [
        "score_3"
      ],
      "execution_count": 59,
      "outputs": [
        {
          "output_type": "execute_result",
          "data": {
            "text/plain": [
              "1.9922956859364223"
            ]
          },
          "metadata": {
            "tags": []
          },
          "execution_count": 59
        }
      ]
    },
    {
      "cell_type": "code",
      "metadata": {
        "colab": {
          "base_uri": "https://localhost:8080/"
        },
        "id": "GzC6Bwutgxdi",
        "outputId": "3e01466a-b680-4d58-db04-86622170d57e"
      },
      "source": [
        "score_4"
      ],
      "execution_count": 60,
      "outputs": [
        {
          "output_type": "execute_result",
          "data": {
            "text/plain": [
              "0.9028193795196178"
            ]
          },
          "metadata": {
            "tags": []
          },
          "execution_count": 60
        }
      ]
    },
    {
      "cell_type": "markdown",
      "metadata": {
        "id": "BfwymZmmhQSa"
      },
      "source": [
        "#VISUALIZING THE DATA"
      ]
    },
    {
      "cell_type": "code",
      "metadata": {
        "colab": {
          "base_uri": "https://localhost:8080/",
          "height": 295
        },
        "id": "OValrqU8g493",
        "outputId": "1208d123-afeb-4fba-d15c-078f744d317a"
      },
      "source": [
        "plt.scatter(Y_train, training_data_prediction)\n",
        "plt.xlabel(\"Actual Price\")\n",
        "plt.ylabel(\"Predicted Price\")\n",
        "plt.title(\"Actual vs predicted price\")\n",
        "plt.show()"
      ],
      "execution_count": 62,
      "outputs": [
        {
          "output_type": "display_data",
          "data": {
            "image/png": "[encoded data removed]",
            "text/plain": [
              "<Figure size 432x288 with 1 Axes>"
            ]
          },
          "metadata": {
            "tags": [],
            "needs_background": "light"
          }
        }
      ]
    },
    {
      "cell_type": "markdown",
      "metadata": {
        "id": "E1qQQkfrh66G"
      },
      "source": [
        "#RANDOM FOREST METHOD"
      ]
    },
    {
      "cell_type": "code",
      "metadata": {
        "id": "LRYMA8jmhhGg"
      },
      "source": [
        "model2 = RandomForestRegressor()"
      ],
      "execution_count": 67,
      "outputs": []
    },
    {
      "cell_type": "code",
      "metadata": {
        "colab": {
          "base_uri": "https://localhost:8080/"
        },
        "id": "TXKcPqGwiF6D",
        "outputId": "b8d0a675-acba-4e6e-89b2-7d4292e33221"
      },
      "source": [
        "model2.fit(X_train, Y_train)"
      ],
      "execution_count": 68,
      "outputs": [
        {
          "output_type": "execute_result",
          "data": {
            "text/plain": [
              "RandomForestRegressor(bootstrap=True, ccp_alpha=0.0, criterion='mse',\n",
              "                      max_depth=None, max_features='auto', max_leaf_nodes=None,\n",
              "                      max_samples=None, min_impurity_decrease=0.0,\n",
              "                      min_impurity_split=None, min_samples_leaf=1,\n",
              "                      min_samples_split=2, min_weight_fraction_leaf=0.0,\n",
              "                      n_estimators=100, n_jobs=None, oob_score=False,\n",
              "                      random_state=None, verbose=0, warm_start=False)"
            ]
          },
          "metadata": {
            "tags": []
          },
          "execution_count": 68
        }
      ]
    },
    {
      "cell_type": "code",
      "metadata": {
        "id": "9JSukxrxiof6"
      },
      "source": [
        "model2_training_res = model2.predict(X_train)"
      ],
      "execution_count": 69,
      "outputs": []
    },
    {
      "cell_type": "code",
      "metadata": {
        "id": "yCj163PzixCe"
      },
      "source": [
        "#r square\n",
        "score_rf = metrics.r2_score(model2_training_res, Y_train)\n",
        "\n",
        "#mae score\n",
        "score_rf_mae = metrics.mean_absolute_error(model2_training_res, Y_train)"
      ],
      "execution_count": 71,
      "outputs": []
    },
    {
      "cell_type": "code",
      "metadata": {
        "colab": {
          "base_uri": "https://localhost:8080/"
        },
        "id": "F4JB-D-Kix13",
        "outputId": "c3571c78-2713-4b76-c5ed-3f0e1355b1f0"
      },
      "source": [
        "score_rf"
      ],
      "execution_count": 72,
      "outputs": [
        {
          "output_type": "execute_result",
          "data": {
            "text/plain": [
              "0.9801744614398685"
            ]
          },
          "metadata": {
            "tags": []
          },
          "execution_count": 72
        }
      ]
    },
    {
      "cell_type": "code",
      "metadata": {
        "colab": {
          "base_uri": "https://localhost:8080/"
        },
        "id": "SlgYl89BjHze",
        "outputId": "90abd046-754b-42b8-8cc5-92b4d9b49ced"
      },
      "source": [
        "score_rf_mae"
      ],
      "execution_count": 73,
      "outputs": [
        {
          "output_type": "execute_result",
          "data": {
            "text/plain": [
              "0.8301930693069299"
            ]
          },
          "metadata": {
            "tags": []
          },
          "execution_count": 73
        }
      ]
    },
    {
      "cell_type": "code",
      "metadata": {
        "id": "d0y9c5WcjJDd"
      },
      "source": [
        "model2_test_res = model2.predict(X_test)\n",
        "#r square\n",
        "score_rf_test = metrics.r2_score(model2_test_res, Y_test)\n",
        "\n",
        "#mae score\n",
        "score_rf_mae_test = metrics.mean_absolute_error(model2_test_res, Y_test)"
      ],
      "execution_count": 76,
      "outputs": []
    },
    {
      "cell_type": "code",
      "metadata": {
        "colab": {
          "base_uri": "https://localhost:8080/"
        },
        "id": "KXoAjga2jYUe",
        "outputId": "90e33da7-f74d-4f00-a71a-fdeda1989120"
      },
      "source": [
        "score_rf_test"
      ],
      "execution_count": 77,
      "outputs": [
        {
          "output_type": "execute_result",
          "data": {
            "text/plain": [
              "0.8815845549556273"
            ]
          },
          "metadata": {
            "tags": []
          },
          "execution_count": 77
        }
      ]
    },
    {
      "cell_type": "code",
      "metadata": {
        "colab": {
          "base_uri": "https://localhost:8080/"
        },
        "id": "gAJ1ZAXRjZee",
        "outputId": "514bbe4f-c248-4597-8556-73fb5c55afa1"
      },
      "source": [
        "score_rf_mae_test"
      ],
      "execution_count": 78,
      "outputs": [
        {
          "output_type": "execute_result",
          "data": {
            "text/plain": [
              "2.067196078431371"
            ]
          },
          "metadata": {
            "tags": []
          },
          "execution_count": 78
        }
      ]
    },
    {
      "cell_type": "code",
      "metadata": {
        "colab": {
          "base_uri": "https://localhost:8080/",
          "height": 295
        },
        "id": "8nSUPhyEjcOd",
        "outputId": "116161e2-d258-483d-86a7-fbc12408f9c7"
      },
      "source": [
        "plt.scatter(Y_train, model2_training_res)\n",
        "plt.xlabel(\"Actual Price\")\n",
        "plt.ylabel(\"Predicted Price\")\n",
        "plt.title(\"Actual vs predicted price\")\n",
        "plt.show()"
      ],
      "execution_count": 79,
      "outputs": [
        {
          "output_type": "display_data",
          "data": {
            "image/png": "[encoded data removed]",
            "text/plain": [
              "<Figure size 432x288 with 1 Axes>"
            ]
          },
          "metadata": {
            "tags": [],
            "needs_background": "light"
          }
        }
      ]
    },
    {
      "cell_type": "code",
      "metadata": {
        "colab": {
          "base_uri": "https://localhost:8080/"
        },
        "id": "81e65av-jk6a",
        "outputId": "54d71ee8-58bf-4882-a278-1274fce029c9"
      },
      "source": [
        "training_data_prediction"
      ],
      "execution_count": 81,
      "outputs": [
        {
          "output_type": "execute_result",
          "data": {
            "text/plain": [
              "array([23.360205 , 22.462858 , 20.84804  , 33.77895  , 15.333282 ,\n",
              "       13.616525 , 21.71274  , 15.175322 , 11.724756 , 21.836252 ,\n",
              "       16.08508  ,  7.52517  , 31.094206 , 48.56228  , 32.623158 ,\n",
              "       20.546066 , 22.177324 , 20.500404 , 31.666502 , 20.551508 ,\n",
              "       25.74269  ,  8.247894 , 45.200817 , 22.069397 , 20.698004 ,\n",
              "       20.100042 , 19.873472 , 26.242834 , 23.39618  , 31.927258 ,\n",
              "       21.493471 ,  9.280926 , 18.504272 , 21.87202  , 12.504413 ,\n",
              "       10.578829 , 13.054951 , 23.541336 , 19.164755 , 15.888303 ,\n",
              "       23.768887 , 28.454714 , 15.539753 , 18.049202 , 16.23671  ,\n",
              "       14.08383  , 25.33273  , 17.575668 , 49.566467 , 16.990675 ,\n",
              "       21.738977 , 32.935143 , 16.125738 , 22.45393  , 20.776966 ,\n",
              "       20.042227 , 22.898897 , 38.124043 , 30.607079 , 32.607468 ,\n",
              "       20.919416 , 47.348038 , 14.524615 ,  8.126455 , 19.581661 ,\n",
              "        9.030508 , 26.462107 , 17.69918  , 20.546162 , 46.312218 ,\n",
              "       39.689137 , 34.387108 , 22.11083  , 34.568977 , 24.873934 ,\n",
              "       50.078335 , 14.5669775, 20.525211 , 20.62971  , 23.202105 ,\n",
              "       49.514477 , 23.12061  , 24.795782 , 20.319666 , 43.869396 ,\n",
              "       17.110266 , 32.165016 , 34.75202  ,  7.313497 , 20.309446 ,\n",
              "       18.038298 , 12.008462 , 24.216425 , 47.90671  , 37.94349  ,\n",
              "       20.759708 , 40.182804 , 18.249052 , 15.611586 , 26.39461  ,\n",
              "       21.0571   , 20.421682 , 18.377089 , 17.338768 , 21.223648 ,\n",
              "       22.653662 , 17.560051 , 32.635715 , 16.683764 , 13.004857 ,\n",
              "       18.488163 , 20.659714 , 16.501846 , 20.648884 , 48.62411  ,\n",
              "       15.977999 , 15.97522  , 18.581459 , 14.893438 , 32.871964 ,\n",
              "       14.236945 , 43.612328 , 33.881115 , 19.073408 , 15.747335 ,\n",
              "        9.4903965, 10.153891 , 14.812717 , 18.655546 ,  8.596755 ,\n",
              "       22.666656 , 10.941623 , 20.534616 , 49.324417 , 22.710459 ,\n",
              "       19.99658  , 31.663935 , 21.78586  , 30.9277   , 30.507492 ,\n",
              "       15.054665 , 15.854853 , 48.532074 , 21.108742 , 15.687305 ,\n",
              "       12.403721 , 49.90245  , 31.557863 , 11.709707 , 20.22495  ,\n",
              "       26.214525 , 32.90807  , 22.90362  ,  9.542897 , 24.487959 ,\n",
              "       24.46598  , 22.509142 , 14.704502 , 27.895067 , 33.619015 ,\n",
              "       14.888735 , 19.147383 , 26.40218  , 32.77208  , 29.293688 ,\n",
              "       23.638102 , 10.448805 , 22.518728 , 21.47825  , 35.32415  ,\n",
              "       23.002241 , 20.470022 , 18.918747 , 10.328174 , 22.244467 ,\n",
              "       17.69918  , 20.918488 , 11.913417 , 42.572548 , 46.803394 ,\n",
              "       14.652036 , 20.633188 , 23.285368 , 15.295161 , 20.861048 ,\n",
              "       23.587011 , 32.94382  , 21.090906 , 24.898489 , 18.465925 ,\n",
              "       31.454802 , 14.421506 , 15.421497 , 21.890705 , 23.64799  ,\n",
              "       17.40471  , 26.111868 , 24.977922 , 27.56308  , 22.964123 ,\n",
              "       18.823803 , 28.856464 , 14.080684 , 19.785515 , 17.007908 ,\n",
              "       42.90537  , 26.354216 , 21.719929 , 23.784258 , 18.4141   ,\n",
              "       17.923422 , 20.337881 , 22.936398 , 25.297531 , 17.572325 ,\n",
              "       14.486319 , 20.739832 , 21.733093 , 11.1917715, 18.290442 ,\n",
              "       20.70475  , 20.929468 , 18.990923 ,  8.7798395, 21.141748 ,\n",
              "       21.021317 , 15.49217  , 24.455221 , 31.499088 , 22.668139 ,\n",
              "       14.862843 , 19.69585  , 24.746317 , 22.913176 , 48.144817 ,\n",
              "       19.950285 , 30.148172 , 49.98047  , 16.743952 , 16.218952 ,\n",
              "        9.891141 , 20.452726 , 17.06055  , 14.73646  , 17.539606 ,\n",
              "       19.555712 , 30.26191  , 27.037518 , 18.43813  , 20.100842 ,\n",
              "       24.147627 , 10.21256  , 25.064299 , 48.283043 , 20.977459 ,\n",
              "       23.265625 , 20.141813 , 11.87677  , 17.84212  , 15.1286955,\n",
              "       14.9789295, 23.502743 , 16.092314 , 21.276255 , 26.55347  ,\n",
              "       16.940031 , 23.485325 , 14.927286 , 20.90435  , 19.254526 ,\n",
              "       24.397417 , 27.566774 , 23.607512 , 17.905067 , 22.675825 ,\n",
              "       25.12203  , 15.141896 , 18.460642 , 23.440636 , 16.4928   ,\n",
              "       23.372946 , 30.389936 , 15.330368 , 24.69199  , 17.316717 ,\n",
              "       14.531138 , 10.496169 , 24.805672 , 15.659789 , 38.916733 ,\n",
              "       20.403166 , 42.113743 ,  8.544421 , 22.536352 , 15.654481 ,\n",
              "       15.709977 , 17.263374 , 23.888586 , 21.690222 , 46.16276  ,\n",
              "       15.304819 , 31.137545 , 25.326769 , 18.969254 , 26.29209  ,\n",
              "       11.722559 , 40.65201  , 20.52522  , 17.135836 , 24.829275 ,\n",
              "       15.565665 , 23.360205 ,  8.280649 , 24.018639 , 19.57025  ,\n",
              "       20.865868 , 23.611485 , 22.455328 , 17.646477 , 17.687094 ,\n",
              "       14.59732  , 25.61237  , 13.333718 , 22.577513 , 20.657572 ,\n",
              "       14.8804865, 16.539358 , 23.276703 , 24.873934 , 22.52675  ,\n",
              "       23.107155 , 31.871576 , 19.262531 , 19.536154 , 28.251024 ,\n",
              "       23.817226 , 12.874959 , 22.59372  , 12.234834 , 10.024989 ,\n",
              "       20.419611 , 10.369816 , 45.84478  , 24.873934 , 12.357825 ,\n",
              "       16.367088 , 14.355771 , 28.338346 , 18.669233 , 20.334248 ,\n",
              "       10.546778 , 21.30952  , 21.00914  , 20.669264 , 23.91886  ,\n",
              "       25.009733 , 26.945326 , 13.288843 , 18.277857 , 20.95568  ,\n",
              "       18.233625 , 23.807056 , 13.400126 , 23.875198 , 33.050533 ,\n",
              "       27.785492 , 25.296518 , 19.071947 , 20.950756 , 11.507434 ,\n",
              "       22.855497 , 15.573306 , 22.33747  , 20.807749 , 22.41908  ,\n",
              "       17.212593 , 12.645366 , 35.121113 , 18.852188 , 48.823723 ,\n",
              "       22.462465 , 24.267456 , 21.375692 , 19.38756  ,  8.561088 ,\n",
              "       20.726429 , 23.400837 , 21.41578  , 17.63176  , 25.232733 ,\n",
              "       21.164701 , 26.444288 , 14.49171  , 49.559753 , 30.693232 ,\n",
              "       23.20531  , 22.950115 , 16.84211  , 30.982431 , 16.259336 ,\n",
              "       23.613512 , 20.93225  , 20.178421 , 22.782583 ], dtype=float32)"
            ]
          },
          "metadata": {
            "tags": []
          },
          "execution_count": 81
        }
      ]
    },
    {
      "cell_type": "code",
      "metadata": {
        "colab": {
          "base_uri": "https://localhost:8080/"
        },
        "id": "368WJJjCkPT9",
        "outputId": "ed68f56f-4fa0-4565-f8f9-d38eb7fd04a8"
      },
      "source": [
        "model2_training_res"
      ],
      "execution_count": 82,
      "outputs": [
        {
          "output_type": "execute_result",
          "data": {
            "text/plain": [
              "array([23.561, 21.022, 21.465, 35.221, 15.062, 14.629, 21.588, 14.667,\n",
              "       12.363, 21.828, 14.101,  7.042, 29.08 , 44.522, 33.834, 20.747,\n",
              "       22.526, 19.747, 32.923, 19.66 , 26.751,  8.723, 45.665, 21.629,\n",
              "       23.539, 19.381, 20.109, 25.805, 22.539, 32.072, 19.52 ,  9.126,\n",
              "       18.353, 21.185, 12.584, 10.348, 12.31 , 23.938, 19.393, 15.114,\n",
              "       24.067, 27.21 , 15.251, 17.059, 15.621, 13.789, 25.221, 17.059,\n",
              "       48.742, 17.893, 21.433, 32.315, 16.549, 22.854, 19.759, 19.065,\n",
              "       22.755, 35.022, 30.154, 32.975, 21.663, 46.745, 13.924,  6.388,\n",
              "       18.796,  9.737, 26.519, 18.736, 20.681, 46.407, 39.823, 34.074,\n",
              "       20.965, 34.112, 25.065, 48.997, 13.343, 18.348, 19.725, 22.523,\n",
              "       48.399, 23.783, 25.025, 22.137, 43.516, 17.915, 31.274, 35.093,\n",
              "        8.017, 20.012, 18.93 , 12.469, 24.484, 47.693, 36.144, 21.567,\n",
              "       37.735, 18.029, 15.586, 28.386, 21.847, 19.898, 18.059, 19.368,\n",
              "       19.351, 21.941, 20.675, 33.152, 20.581, 13.184, 19.115, 20.897,\n",
              "       17.756, 19.997, 47.689, 16.095, 16.296, 18.475, 14.254, 32.593,\n",
              "       15.115, 43.55 , 34.463, 19.884, 15.047,  8.638, 11.583, 12.683,\n",
              "       18.834,  8.085, 22.855, 12.097, 20.14 , 45.877, 22.504, 19.657,\n",
              "       31.497, 20.734, 32.094, 31.406, 14.62 , 16.022, 49.283, 20.933,\n",
              "       16.438, 12.808, 48.782, 31.62 , 11.262, 19.526, 27.789, 32.462,\n",
              "       23.03 ,  9.612, 24.133, 23.872, 22.105, 12.874, 27.808, 33.149,\n",
              "       14.557, 19.287, 26.752, 34.825, 29.75 , 23.286, 10.777, 22.921,\n",
              "       23.068, 35.353, 23.47 , 20.132, 19.375, 10.317, 22.004, 19.544,\n",
              "       20.291, 11.14 , 42.281, 46.886, 13.07 , 20.217, 24.316, 15.783,\n",
              "       21.667, 22.129, 32.661, 20.983, 24.941, 18.768, 32.024, 14.445,\n",
              "       14.664, 22.505, 23.599, 17.743, 26.271, 25.483, 27.413, 21.696,\n",
              "       18.6  , 27.243, 14.454, 20.91 , 17.862, 41.129, 27.089, 20.17 ,\n",
              "       24.908, 18.621, 17.989, 19.031, 23.75 , 25.409, 17.637, 14.113,\n",
              "       21.767, 21.925, 10.657, 19.14 , 21.41 , 19.617, 18.703,  8.727,\n",
              "       22.839, 20.515, 15.15 , 23.338, 29.563, 21.804, 14.028, 19.838,\n",
              "       29.507, 21.955, 46.01 , 17.321, 30.567, 47.871, 16.874, 17.343,\n",
              "        9.681, 20.236, 16.657, 16.102, 16.273, 19.686, 30.078, 28.337,\n",
              "       19.318, 21.755, 24.716, 10.457, 25.701, 47.231, 21.075, 22.838,\n",
              "       20.319, 12.991, 19.002, 16.018, 13.775, 22.775, 15.265, 20.943,\n",
              "       26.305, 17.976, 23.816, 14.544, 21.503, 20.028, 25.75 , 27.872,\n",
              "       23.308, 18.776, 23.245, 24.796, 14.973, 19.233, 24.518, 16.868,\n",
              "       24.067, 30.59 , 15.965, 24.431, 16.283, 13.683, 11.69 , 24.293,\n",
              "       14.678, 37.655, 19.734, 44.144,  9.222, 23.193, 14.479, 15.062,\n",
              "       17.455, 22.734, 22.549, 45.467, 20.39 , 30.1  , 26.242, 18.305,\n",
              "       25.339, 11.985, 40.429, 20.648, 17.577, 24.805, 14.567, 24.36 ,\n",
              "        7.849, 23.789, 18.752, 21.588, 23.403, 23.575, 17.698, 18.202,\n",
              "       14.02 , 26.371, 13.812, 22.427, 20.452, 15.161, 16.835, 22.539,\n",
              "       24.691, 21.721, 23.203, 30.453, 20.947, 20.023, 27.959, 23.611,\n",
              "       12.895, 24.091, 12.246,  8.747, 20.89 , 10.003, 47.23 , 25.349,\n",
              "       12.422, 17.318, 14.552, 27.91 , 19.301, 21.317,  9.508, 20.894,\n",
              "       21.465, 19.956, 23.696, 25.15 , 27.684, 13.877, 16.68 , 20.539,\n",
              "       19.053, 24.341, 14.323, 25.667, 33.933, 26.514, 24.705, 19.254,\n",
              "       19.917, 14.876, 23.356, 13.731, 23.869, 21.895, 21.202, 17.406,\n",
              "       11.927, 32.917, 19.234, 49.214, 22.968, 23.444, 21.067, 18.744,\n",
              "        8.545, 21.208, 23.378, 21.326, 17.47 , 26.561, 21.133, 27.207,\n",
              "       14.774, 48.139, 31.092, 23.948, 22.103, 17.71 , 31.04 , 15.616,\n",
              "       22.949, 21.397, 19.896, 23.137])"
            ]
          },
          "metadata": {
            "tags": []
          },
          "execution_count": 82
        }
      ]
    },
    {
      "cell_type": "code",
      "metadata": {
        "colab": {
          "base_uri": "https://localhost:8080/"
        },
        "id": "stpOH2LMkX0t",
        "outputId": "0c7f6ddf-e6da-4623-add9-1947be7111b2"
      },
      "source": [
        "Y_train"
      ],
      "execution_count": 83,
      "outputs": [
        {
          "output_type": "execute_result",
          "data": {
            "text/plain": [
              "321    23.1\n",
              "37     21.0\n",
              "286    20.1\n",
              "2      34.7\n",
              "25     13.9\n",
              "       ... \n",
              "22     15.2\n",
              "72     22.8\n",
              "493    21.8\n",
              "15     19.9\n",
              "168    23.8\n",
              "Name: price, Length: 404, dtype: float64"
            ]
          },
          "metadata": {
            "tags": []
          },
          "execution_count": 83
        }
      ]
    },
    {
      "cell_type": "code",
      "metadata": {
        "id": "LiZAY_w6kebz"
      },
      "source": [
        ""
      ],
      "execution_count": null,
      "outputs": []
    }
  ]
}